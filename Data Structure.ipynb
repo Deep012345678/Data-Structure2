{
 "cells": [
  {
   "cell_type": "code",
   "execution_count": 11,
   "id": "86e9b2ef-a12b-41c8-8792-7b8d4d0aa91f",
   "metadata": {},
   "outputs": [
    {
     "name": "stdout",
     "output_type": "stream",
     "text": [
      "My Name: Deepak Sharma\n"
     ]
    }
   ],
   "source": [
    "# 1. Write a code to create a string with your name and print it.\n",
    "my_name = \"Deepak Sharma\"\n",
    "print(\"My Name:\", my_name)\n"
   ]
  },
  {
   "cell_type": "code",
   "execution_count": 12,
   "id": "abaf151d-8659-4da1-b579-b8700780c4ae",
   "metadata": {},
   "outputs": [
    {
     "name": "stdout",
     "output_type": "stream",
     "text": [
      "Length of the string: 11\n"
     ]
    }
   ],
   "source": [
    "# 2. Write a code to find the length of the string \"Hello World\".\n",
    "string = \"Hello World\"\n",
    "print(\"Length of the string:\", len(string))\n"
   ]
  },
  {
   "cell_type": "code",
   "execution_count": 13,
   "id": "790900e6-a429-438b-b3fc-3b1ee5fbefc1",
   "metadata": {},
   "outputs": [
    {
     "name": "stdout",
     "output_type": "stream",
     "text": [
      "First 3 characters: Pyt\n"
     ]
    }
   ],
   "source": [
    "# 3. Write a code to slice the first 3 characters from the string \"Python Programming\".\n",
    "string = \"Python Programming\"\n",
    "sliced_string = string[:3]\n",
    "print(\"First 3 characters:\", sliced_string)\n"
   ]
  },
  {
   "cell_type": "code",
   "execution_count": 14,
   "id": "d4db13e2-0e52-46dc-9831-ff3792597c5e",
   "metadata": {},
   "outputs": [
    {
     "name": "stdout",
     "output_type": "stream",
     "text": [
      "Uppercase String: HELLO\n"
     ]
    }
   ],
   "source": [
    "# 4. Write a code to convert the string \"hello\" to uppercase.\n",
    "string = \"hello\"\n",
    "uppercase_string = string.upper()\n",
    "print(\"Uppercase String:\", uppercase_string)\n"
   ]
  },
  {
   "cell_type": "code",
   "execution_count": 15,
   "id": "5ee4ab99-0de7-4231-8189-5d67a4e453d2",
   "metadata": {},
   "outputs": [
    {
     "name": "stdout",
     "output_type": "stream",
     "text": [
      "Modified String: I like orange\n"
     ]
    }
   ],
   "source": [
    "# 5. Write a code to replace the word \"apple\" with \"orange\" in the string \"I like apple\".\n",
    "string = \"I like apple\"\n",
    "modified_string = string.replace(\"apple\", \"orange\")\n",
    "print(\"Modified String:\", modified_string)\n"
   ]
  },
  {
   "cell_type": "code",
   "execution_count": 16,
   "id": "16a2f63f-b1a7-479b-889a-5c1ede8fca25",
   "metadata": {},
   "outputs": [
    {
     "name": "stdout",
     "output_type": "stream",
     "text": [
      "List with numbers 1 to 5: [1, 2, 3, 4, 5]\n"
     ]
    }
   ],
   "source": [
    "# 6. Write a code to create a list with numbers 1 to 5 and print it.\n",
    "my_list = [1, 2, 3, 4, 5]\n",
    "print(\"List with numbers 1 to 5:\", my_list)\n"
   ]
  },
  {
   "cell_type": "code",
   "execution_count": 17,
   "id": "70d900de-611e-4a5f-9fe2-7efe0e0aec99",
   "metadata": {},
   "outputs": [
    {
     "name": "stdout",
     "output_type": "stream",
     "text": [
      "Updated List: [1, 2, 3, 4, 10]\n"
     ]
    }
   ],
   "source": [
    "# 7. Write a code to append the number 10 to the list [1, 2, 3, 4].\n",
    "my_list = [1, 2, 3, 4]\n",
    "my_list.append(10)\n",
    "print(\"Updated List:\", my_list)\n"
   ]
  },
  {
   "cell_type": "code",
   "execution_count": 18,
   "id": "c7e48e77-dbcb-463d-a5e7-10e4b139b578",
   "metadata": {},
   "outputs": [
    {
     "name": "stdout",
     "output_type": "stream",
     "text": [
      "Updated List after removing 3: [1, 2, 4, 5]\n"
     ]
    }
   ],
   "source": [
    "# 8. Write a code to remove the number 3 from the list [1, 2, 3, 4, 5].\n",
    "my_list = [1, 2, 3, 4, 5]\n",
    "my_list.remove(3)\n",
    "print(\"Updated List after removing 3:\", my_list)\n"
   ]
  },
  {
   "cell_type": "code",
   "execution_count": 19,
   "id": "494443bf-7c2d-418b-96ee-a7b1e6912a8b",
   "metadata": {},
   "outputs": [
    {
     "name": "stdout",
     "output_type": "stream",
     "text": [
      "Second Element: b\n"
     ]
    }
   ],
   "source": [
    "# 9. Write a code to access the second element in the list ['a', 'b', 'c'].\n",
    "my_list = ['a', 'b', 'c']\n",
    "second_element = my_list[1]\n",
    "print(\"Second Element:\", second_element)\n"
   ]
  },
  {
   "cell_type": "code",
   "execution_count": 20,
   "id": "d62515b1-6bda-4480-9065-a8123f2c509a",
   "metadata": {},
   "outputs": [
    {
     "name": "stdout",
     "output_type": "stream",
     "text": [
      "Reversed List: [50, 40, 30, 20, 10]\n"
     ]
    }
   ],
   "source": [
    "# 10. Write a code to reverse the list [10, 20, 30, 40, 50].\n",
    "my_list = [10, 20, 30, 40, 50]\n",
    "reversed_list = my_list[::-1]\n",
    "print(\"Reversed List:\", reversed_list)\n"
   ]
  },
  {
   "cell_type": "code",
   "execution_count": 21,
   "id": "07a31ad3-6009-4e9d-8e27-57336f6d2220",
   "metadata": {},
   "outputs": [
    {
     "name": "stdout",
     "output_type": "stream",
     "text": [
      "Tuple: (10, 20, 30)\n"
     ]
    }
   ],
   "source": [
    "# 11. Write a code to create a tuple with the elements 10, 20, 30 and print it.\n",
    "my_tuple = (10, 20, 30)\n",
    "print(\"Tuple:\", my_tuple)\n"
   ]
  },
  {
   "cell_type": "code",
   "execution_count": 22,
   "id": "2fddf698-9849-4396-8227-0993561086f7",
   "metadata": {},
   "outputs": [
    {
     "name": "stdout",
     "output_type": "stream",
     "text": [
      "First Element: apple\n"
     ]
    }
   ],
   "source": [
    "# 12. Write a code to access the first element of the tuple ('apple', 'banana', 'cherry').\n",
    "my_tuple = ('apple', 'banana', 'cherry')\n",
    "first_element = my_tuple[0]\n",
    "print(\"First Element:\", first_element)\n"
   ]
  },
  {
   "cell_type": "code",
   "execution_count": 23,
   "id": "babd875b-0a63-4a0d-8d5c-9976aa15cf8b",
   "metadata": {},
   "outputs": [
    {
     "name": "stdout",
     "output_type": "stream",
     "text": [
      "Count of 2: 3\n"
     ]
    }
   ],
   "source": [
    "# 13. Write a code to count how many times the number 2 appears in the tuple (1, 2, 3, 2, 4, 2).\n",
    "my_tuple = (1, 2, 3, 2, 4, 2)\n",
    "count_of_2 = my_tuple.count(2)\n",
    "print(\"Count of 2:\", count_of_2)\n"
   ]
  },
  {
   "cell_type": "code",
   "execution_count": 24,
   "id": "4b2f5431-ef5e-4c1f-83bc-cdae91dcf7b4",
   "metadata": {},
   "outputs": [
    {
     "name": "stdout",
     "output_type": "stream",
     "text": [
      "Index of 'cat': 1\n"
     ]
    }
   ],
   "source": [
    "# 14. Write a code to find the index of the element \"cat\" in the tuple ('dog', 'cat', 'rabbit').\n",
    "my_tuple = ('dog', 'cat', 'rabbit')\n",
    "index_of_cat = my_tuple.index('cat')\n",
    "print(\"Index of 'cat':\", index_of_cat)\n"
   ]
  },
  {
   "cell_type": "code",
   "execution_count": 25,
   "id": "14f805e7-f95f-4795-bca3-ce8c0bd36ba6",
   "metadata": {},
   "outputs": [
    {
     "name": "stdout",
     "output_type": "stream",
     "text": [
      "Is 'banana' in the tuple? True\n"
     ]
    }
   ],
   "source": [
    "# 15. Write a code to check if the element \"banana\" is in the tuple ('apple', 'orange', 'banana').\n",
    "my_tuple = ('apple', 'orange', 'banana')\n",
    "is_banana_present = \"banana\" in my_tuple\n",
    "print(\"Is 'banana' in the tuple?\", is_banana_present)\n"
   ]
  },
  {
   "cell_type": "code",
   "execution_count": 26,
   "id": "4173c37d-2cd7-47ed-b901-a77a8aa9a292",
   "metadata": {},
   "outputs": [
    {
     "name": "stdout",
     "output_type": "stream",
     "text": [
      "Set: {1, 2, 3, 4, 5}\n"
     ]
    }
   ],
   "source": [
    "# 16. Write a code to create a set with the elements 1, 2, 3, 4, 5 and print it.\n",
    "my_set = {1, 2, 3, 4, 5}\n",
    "print(\"Set:\", my_set)\n"
   ]
  },
  {
   "cell_type": "code",
   "execution_count": 27,
   "id": "d7560c18-544f-44a8-937c-100de6d927bd",
   "metadata": {},
   "outputs": [
    {
     "name": "stdout",
     "output_type": "stream",
     "text": [
      "Updated Set: {1, 2, 3, 4, 6}\n"
     ]
    }
   ],
   "source": [
    "# 17. Write a code to add the element 6 to the set {1, 2, 3, 4}.\n",
    "my_set = {1, 2, 3, 4}\n",
    "my_set.add(6)\n",
    "print(\"Updated Set:\", my_set)\n"
   ]
  },
  {
   "cell_type": "code",
   "execution_count": 28,
   "id": "479a9dbf-6e5f-44ea-a6c6-28def1f739da",
   "metadata": {},
   "outputs": [
    {
     "name": "stdout",
     "output_type": "stream",
     "text": [
      "Tuple: (10, 20, 30)\n"
     ]
    }
   ],
   "source": [
    "# 18. Write a code to create a tuple with the elements 10, 20, 30 and print it.\n",
    "my_tuple = (10, 20, 30)\n",
    "print(\"Tuple:\", my_tuple)\n"
   ]
  },
  {
   "cell_type": "code",
   "execution_count": 29,
   "id": "5fa9967a-0541-4235-848c-d7b232733d31",
   "metadata": {},
   "outputs": [
    {
     "name": "stdout",
     "output_type": "stream",
     "text": [
      "First Element: apple\n"
     ]
    }
   ],
   "source": [
    "# 19. Write a code to access the first element of the tuple ('apple', 'banana', 'cherry').\n",
    "my_tuple = ('apple', 'banana', 'cherry')\n",
    "first_element = my_tuple[0]\n",
    "print(\"First Element:\", first_element)\n"
   ]
  },
  {
   "cell_type": "code",
   "execution_count": 30,
   "id": "569f0dac-93ca-43c3-a704-5006a0f4fb03",
   "metadata": {},
   "outputs": [
    {
     "name": "stdout",
     "output_type": "stream",
     "text": [
      "Count of 2: 3\n"
     ]
    }
   ],
   "source": [
    "# 20. Write a code to count how many times the number 2 appears in the tuple (1, 2, 3, 2, 4, 2).\n",
    "my_tuple = (1, 2, 3, 2, 4, 2)\n",
    "count_of_2 = my_tuple.count(2)\n",
    "print(\"Count of 2:\", count_of_2)\n"
   ]
  },
  {
   "cell_type": "code",
   "execution_count": 31,
   "id": "50aefda3-265b-45e6-af09-ce3b7b460994",
   "metadata": {},
   "outputs": [
    {
     "name": "stdout",
     "output_type": "stream",
     "text": [
      "Index of 'cat': 1\n"
     ]
    }
   ],
   "source": [
    "# 21. Write a code to find the index of the element \"cat\" in the tuple ('dog', 'cat', 'rabbit').\n",
    "my_tuple = ('dog', 'cat', 'rabbit')\n",
    "index_of_cat = my_tuple.index('cat')\n",
    "print(\"Index of 'cat':\", index_of_cat)\n"
   ]
  },
  {
   "cell_type": "code",
   "execution_count": 33,
   "id": "79f3ac79-2cb2-45f0-b705-50e38b85e017",
   "metadata": {},
   "outputs": [
    {
     "name": "stdout",
     "output_type": "stream",
     "text": [
      "Is 'banana' in the tuple? True\n"
     ]
    }
   ],
   "source": [
    "# 22. Write a code to check if the element \"banana\" is in the tuple ('apple', 'orange', 'banana').\n",
    "my_tuple = ('apple', 'orange', 'banana')\n",
    "is_banana_present = \"banana\" in my_tuple\n",
    "print(\"Is 'banana' in the tuple?\", is_banana_present)\n"
   ]
  },
  {
   "cell_type": "code",
   "execution_count": 34,
   "id": "87db5f63-e16c-4422-9f9e-fbeb6d94580f",
   "metadata": {},
   "outputs": [
    {
     "name": "stdout",
     "output_type": "stream",
     "text": [
      "Set: {1, 2, 3, 4, 5}\n"
     ]
    }
   ],
   "source": [
    "# 23. Write a code to create a set with the elements 1, 2, 3, 4, 5 and print it.\n",
    "my_set = {1, 2, 3, 4, 5}\n",
    "print(\"Set:\", my_set)\n"
   ]
  },
  {
   "cell_type": "code",
   "execution_count": 35,
   "id": "82fe19fc-8586-4078-8e15-3ec5ebf4f8da",
   "metadata": {},
   "outputs": [
    {
     "name": "stdout",
     "output_type": "stream",
     "text": [
      "Updated Set: {1, 2, 3, 4, 6}\n"
     ]
    }
   ],
   "source": [
    "# 24. Write a code to add the element 6 to the set {1, 2, 3, 4}.\n",
    "my_set = {1, 2, 3, 4}\n",
    "my_set.add(6)\n",
    "print(\"Updated Set:\", my_set)\n"
   ]
  },
  {
   "cell_type": "code",
   "execution_count": null,
   "id": "70ab3a15-7aba-4866-ab70-2ff88e26f858",
   "metadata": {},
   "outputs": [],
   "source": []
  }
 ],
 "metadata": {
  "kernelspec": {
   "display_name": "Python 3 (ipykernel)",
   "language": "python",
   "name": "python3"
  },
  "language_info": {
   "codemirror_mode": {
    "name": "ipython",
    "version": 3
   },
   "file_extension": ".py",
   "mimetype": "text/x-python",
   "name": "python",
   "nbconvert_exporter": "python",
   "pygments_lexer": "ipython3",
   "version": "3.12.7"
  }
 },
 "nbformat": 4,
 "nbformat_minor": 5
}
